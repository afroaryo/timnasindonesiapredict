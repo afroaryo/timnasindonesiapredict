{
 "cells": [
  {
   "cell_type": "markdown",
   "metadata": {},
   "source": [
    "# Football Predict Using Poisson Distribution\n",
    "Feel free to try it with my dataset in another file"
   ]
  },
  {
   "cell_type": "code",
   "execution_count": 2,
   "metadata": {},
   "outputs": [],
   "source": [
    "import pandas as pd"
   ]
  },
  {
   "cell_type": "code",
   "execution_count": 3,
   "metadata": {},
   "outputs": [],
   "source": [
    "import matplotlib.pyplot as plt"
   ]
  },
  {
   "cell_type": "code",
   "execution_count": 4,
   "metadata": {},
   "outputs": [],
   "source": [
    "import numpy as np"
   ]
  },
  {
   "cell_type": "code",
   "execution_count": 5,
   "metadata": {},
   "outputs": [],
   "source": [
    "import seaborn as sns"
   ]
  },
  {
   "cell_type": "code",
   "execution_count": 6,
   "metadata": {},
   "outputs": [],
   "source": [
    "from scipy.stats import poisson, skellam"
   ]
  },
  {
   "cell_type": "code",
   "execution_count": 16,
   "metadata": {},
   "outputs": [],
   "source": [
    "grupG = pd.read_excel(r'C:\\Users\\Christopher Aryo\\Desktop\\Kompas Magang\\Timnas Indonesia\\Matches1.xlsx')"
   ]
  },
  {
   "cell_type": "code",
   "execution_count": 17,
   "metadata": {},
   "outputs": [
    {
     "data": {
      "text/html": [
       "<div>\n",
       "<style scoped>\n",
       "    .dataframe tbody tr th:only-of-type {\n",
       "        vertical-align: middle;\n",
       "    }\n",
       "\n",
       "    .dataframe tbody tr th {\n",
       "        vertical-align: top;\n",
       "    }\n",
       "\n",
       "    .dataframe thead th {\n",
       "        text-align: right;\n",
       "    }\n",
       "</style>\n",
       "<table border=\"1\" class=\"dataframe\">\n",
       "  <thead>\n",
       "    <tr style=\"text-align: right;\">\n",
       "      <th></th>\n",
       "      <th>No</th>\n",
       "      <th>Tanggal</th>\n",
       "      <th>Home</th>\n",
       "      <th>Away</th>\n",
       "      <th>FTHG</th>\n",
       "      <th>FTAG</th>\n",
       "      <th>Kondisi</th>\n",
       "      <th>Unnamed: 7</th>\n",
       "      <th>Skor</th>\n",
       "    </tr>\n",
       "  </thead>\n",
       "  <tbody>\n",
       "    <tr>\n",
       "      <th>0</th>\n",
       "      <td>1</td>\n",
       "      <td>2014-09-14</td>\n",
       "      <td>Indonesia</td>\n",
       "      <td>Malaysia</td>\n",
       "      <td>2</td>\n",
       "      <td>0</td>\n",
       "      <td>Menang</td>\n",
       "      <td>1</td>\n",
       "      <td>2-0</td>\n",
       "    </tr>\n",
       "    <tr>\n",
       "      <th>1</th>\n",
       "      <td>2</td>\n",
       "      <td>2014-11-22</td>\n",
       "      <td>Vietnam</td>\n",
       "      <td>Indonesia</td>\n",
       "      <td>2</td>\n",
       "      <td>2</td>\n",
       "      <td>Seri</td>\n",
       "      <td>0</td>\n",
       "      <td>2-2</td>\n",
       "    </tr>\n",
       "    <tr>\n",
       "      <th>2</th>\n",
       "      <td>3</td>\n",
       "      <td>2016-06-09</td>\n",
       "      <td>Indonesia</td>\n",
       "      <td>Malaysia</td>\n",
       "      <td>3</td>\n",
       "      <td>0</td>\n",
       "      <td>Menang</td>\n",
       "      <td>1</td>\n",
       "      <td>3-0</td>\n",
       "    </tr>\n",
       "    <tr>\n",
       "      <th>3</th>\n",
       "      <td>4</td>\n",
       "      <td>2016-09-10</td>\n",
       "      <td>Indonesia</td>\n",
       "      <td>Vietnam</td>\n",
       "      <td>2</td>\n",
       "      <td>2</td>\n",
       "      <td>Seri</td>\n",
       "      <td>0</td>\n",
       "      <td>2-2</td>\n",
       "    </tr>\n",
       "    <tr>\n",
       "      <th>4</th>\n",
       "      <td>5</td>\n",
       "      <td>2016-11-08</td>\n",
       "      <td>Vietnam</td>\n",
       "      <td>Indonesia</td>\n",
       "      <td>3</td>\n",
       "      <td>2</td>\n",
       "      <td>Menang</td>\n",
       "      <td>1</td>\n",
       "      <td>3-2</td>\n",
       "    </tr>\n",
       "  </tbody>\n",
       "</table>\n",
       "</div>"
      ],
      "text/plain": [
       "   No    Tanggal       Home       Away  FTHG  FTAG Kondisi  Unnamed: 7 Skor\n",
       "0   1 2014-09-14  Indonesia   Malaysia     2     0  Menang           1  2-0\n",
       "1   2 2014-11-22    Vietnam  Indonesia     2     2    Seri           0  2-2\n",
       "2   3 2016-06-09  Indonesia   Malaysia     3     0  Menang           1  3-0\n",
       "3   4 2016-09-10  Indonesia    Vietnam     2     2    Seri           0  2-2\n",
       "4   5 2016-11-08    Vietnam  Indonesia     3     2  Menang           1  3-2"
      ]
     },
     "execution_count": 17,
     "metadata": {},
     "output_type": "execute_result"
    }
   ],
   "source": [
    "grupG.head()"
   ]
  },
  {
   "cell_type": "code",
   "execution_count": 9,
   "metadata": {},
   "outputs": [
    {
     "data": {
      "text/plain": [
       "Series([], dtype: float64)"
      ]
     },
     "execution_count": 9,
     "metadata": {},
     "output_type": "execute_result"
    }
   ],
   "source": [
    "grupG.mean()"
   ]
  },
  {
   "cell_type": "code",
   "execution_count": 24,
   "metadata": {},
   "outputs": [
    {
     "data": {
      "text/plain": [
       "3.915685939222361e-11"
      ]
     },
     "execution_count": 24,
     "metadata": {},
     "output_type": "execute_result"
    }
   ],
   "source": [
    "skellam.pmf(0.0, grupG.mean()[0], grupG.mean()[1])"
   ]
  },
  {
   "cell_type": "code",
   "execution_count": 25,
   "metadata": {},
   "outputs": [
    {
     "data": {
      "text/plain": [
       "1.6510903979835231e-10"
      ]
     },
     "execution_count": 25,
     "metadata": {},
     "output_type": "execute_result"
    }
   ],
   "source": [
    "skellam.pmf(1, grupG.mean()[0], grupG.mean()[1])"
   ]
  },
  {
   "cell_type": "code",
   "execution_count": 13,
   "metadata": {},
   "outputs": [],
   "source": [
    "import statsmodels.api as sm"
   ]
  },
  {
   "cell_type": "code",
   "execution_count": 14,
   "metadata": {},
   "outputs": [],
   "source": [
    "import statsmodels.formula.api as smf"
   ]
  },
  {
   "cell_type": "markdown",
   "metadata": {},
   "source": [
    "# Modeling Distribution"
   ]
  },
  {
   "cell_type": "code",
   "execution_count": 18,
   "metadata": {},
   "outputs": [],
   "source": [
    "goal_model_data = pd.concat([grupG[['Home','Away','FTHG']]\n",
    "                             .assign(home=1).rename(columns={'Home':'Team',\n",
    "                                                            'Away': 'Opponent',\n",
    "                                                            'FTHG': 'Goal'}),\n",
    "                            grupG[['Away','Home','FTAG']].assign(home=0).\n",
    "                            rename(columns={'Away':'Team','Home':'Opponent',\n",
    "                                           'FTAG':'Goal'})])"
   ]
  },
  {
   "cell_type": "code",
   "execution_count": 19,
   "metadata": {
    "scrolled": false
   },
   "outputs": [
    {
     "data": {
      "text/html": [
       "<table class=\"simpletable\">\n",
       "<caption>Generalized Linear Model Regression Results</caption>\n",
       "<tr>\n",
       "  <th>Dep. Variable:</th>         <td>goals</td>      <th>  No. Observations:  </th>  <td>   144</td> \n",
       "</tr>\n",
       "<tr>\n",
       "  <th>Model:</th>                  <td>GLM</td>       <th>  Df Residuals:      </th>  <td>   134</td> \n",
       "</tr>\n",
       "<tr>\n",
       "  <th>Model Family:</th>         <td>Poisson</td>     <th>  Df Model:          </th>  <td>     9</td> \n",
       "</tr>\n",
       "<tr>\n",
       "  <th>Link Function:</th>          <td>log</td>       <th>  Scale:             </th> <td>  1.0000</td>\n",
       "</tr>\n",
       "<tr>\n",
       "  <th>Method:</th>                <td>IRLS</td>       <th>  Log-Likelihood:    </th> <td> -207.87</td>\n",
       "</tr>\n",
       "<tr>\n",
       "  <th>Date:</th>            <td>Wed, 21 Aug 2019</td> <th>  Deviance:          </th> <td>  149.48</td>\n",
       "</tr>\n",
       "<tr>\n",
       "  <th>Time:</th>                <td>15:50:30</td>     <th>  Pearson chi2:      </th>  <td>  135.</td> \n",
       "</tr>\n",
       "<tr>\n",
       "  <th>No. Iterations:</th>          <td>5</td>        <th>                     </th>     <td> </td>   \n",
       "</tr>\n",
       "<tr>\n",
       "  <th>Covariance Type:</th>     <td>nonrobust</td>    <th>                     </th>     <td> </td>   \n",
       "</tr>\n",
       "</table>\n",
       "<table class=\"simpletable\">\n",
       "<tr>\n",
       "            <td></td>              <th>coef</th>     <th>std err</th>      <th>z</th>      <th>P>|z|</th>  <th>[0.025</th>    <th>0.975]</th>  \n",
       "</tr>\n",
       "<tr>\n",
       "  <th>Intercept</th>            <td>    0.2621</td> <td>    0.258</td> <td>    1.017</td> <td> 0.309</td> <td>   -0.243</td> <td>    0.767</td>\n",
       "</tr>\n",
       "<tr>\n",
       "  <th>team[T.Malaysia]</th>     <td>   -0.3683</td> <td>    0.253</td> <td>   -1.453</td> <td> 0.146</td> <td>   -0.865</td> <td>    0.128</td>\n",
       "</tr>\n",
       "<tr>\n",
       "  <th>team[T.Thailand]</th>     <td>    0.0156</td> <td>    0.216</td> <td>    0.072</td> <td> 0.942</td> <td>   -0.408</td> <td>    0.439</td>\n",
       "</tr>\n",
       "<tr>\n",
       "  <th>team[T.UAE]</th>          <td>    0.2839</td> <td>    0.209</td> <td>    1.357</td> <td> 0.175</td> <td>   -0.126</td> <td>    0.694</td>\n",
       "</tr>\n",
       "<tr>\n",
       "  <th>team[T.Vietnam]</th>      <td>   -0.3493</td> <td>    0.242</td> <td>   -1.446</td> <td> 0.148</td> <td>   -0.823</td> <td>    0.124</td>\n",
       "</tr>\n",
       "<tr>\n",
       "  <th>opponent[T.Malaysia]</th> <td>    0.1087</td> <td>    0.207</td> <td>    0.525</td> <td> 0.600</td> <td>   -0.298</td> <td>    0.515</td>\n",
       "</tr>\n",
       "<tr>\n",
       "  <th>opponent[T.Thailand]</th> <td>   -0.4054</td> <td>    0.241</td> <td>   -1.682</td> <td> 0.093</td> <td>   -0.878</td> <td>    0.067</td>\n",
       "</tr>\n",
       "<tr>\n",
       "  <th>opponent[T.UAE]</th>      <td>   -0.3856</td> <td>    0.252</td> <td>   -1.529</td> <td> 0.126</td> <td>   -0.880</td> <td>    0.109</td>\n",
       "</tr>\n",
       "<tr>\n",
       "  <th>opponent[T.Vietnam]</th>  <td>   -0.1836</td> <td>    0.225</td> <td>   -0.816</td> <td> 0.414</td> <td>   -0.624</td> <td>    0.257</td>\n",
       "</tr>\n",
       "<tr>\n",
       "  <th>home</th>                 <td>    0.5826</td> <td>    0.145</td> <td>    4.023</td> <td> 0.000</td> <td>    0.299</td> <td>    0.866</td>\n",
       "</tr>\n",
       "</table>"
      ],
      "text/plain": [
       "<class 'statsmodels.iolib.summary.Summary'>\n",
       "\"\"\"\n",
       "                 Generalized Linear Model Regression Results                  \n",
       "==============================================================================\n",
       "Dep. Variable:                  goals   No. Observations:                  144\n",
       "Model:                            GLM   Df Residuals:                      134\n",
       "Model Family:                 Poisson   Df Model:                            9\n",
       "Link Function:                    log   Scale:                          1.0000\n",
       "Method:                          IRLS   Log-Likelihood:                -207.87\n",
       "Date:                Wed, 21 Aug 2019   Deviance:                       149.48\n",
       "Time:                        15:50:30   Pearson chi2:                     135.\n",
       "No. Iterations:                     5                                         \n",
       "Covariance Type:            nonrobust                                         \n",
       "========================================================================================\n",
       "                           coef    std err          z      P>|z|      [0.025      0.975]\n",
       "----------------------------------------------------------------------------------------\n",
       "Intercept                0.2621      0.258      1.017      0.309      -0.243       0.767\n",
       "team[T.Malaysia]        -0.3683      0.253     -1.453      0.146      -0.865       0.128\n",
       "team[T.Thailand]         0.0156      0.216      0.072      0.942      -0.408       0.439\n",
       "team[T.UAE]              0.2839      0.209      1.357      0.175      -0.126       0.694\n",
       "team[T.Vietnam]         -0.3493      0.242     -1.446      0.148      -0.823       0.124\n",
       "opponent[T.Malaysia]     0.1087      0.207      0.525      0.600      -0.298       0.515\n",
       "opponent[T.Thailand]    -0.4054      0.241     -1.682      0.093      -0.878       0.067\n",
       "opponent[T.UAE]         -0.3856      0.252     -1.529      0.126      -0.880       0.109\n",
       "opponent[T.Vietnam]     -0.1836      0.225     -0.816      0.414      -0.624       0.257\n",
       "home                     0.5826      0.145      4.023      0.000       0.299       0.866\n",
       "========================================================================================\n",
       "\"\"\""
      ]
     },
     "execution_count": 19,
     "metadata": {},
     "output_type": "execute_result"
    }
   ],
   "source": [
    "import statsmodels.api as sm\n",
    "import statsmodels.formula.api as smf\n",
    "\n",
    "goal_model_data = pd.concat([grupG[['Home','Away','FTHG']].assign(home=1)\n",
    "                             .rename(columns={'Home':'team','Away':'opponent',\n",
    "                                             'FTHG':'goals'}),\n",
    "                            grupG[['Away','Home','FTAG']].assign(home=0)\n",
    "                            .rename(columns={'Away':'team','Home':'opponent',\n",
    "                                            'FTAG':'goals'})])\n",
    "\n",
    "poisson_model = smf.glm(formula='goals ~ home + team + opponent',\n",
    "                       data=goal_model_data, family=sm.families.Poisson()).fit()\n",
    "\n",
    "poisson_model.summary()"
   ]
  },
  {
   "cell_type": "code",
   "execution_count": 63,
   "metadata": {},
   "outputs": [
    {
     "data": {
      "text/html": [
       "<div>\n",
       "<style scoped>\n",
       "    .dataframe tbody tr th:only-of-type {\n",
       "        vertical-align: middle;\n",
       "    }\n",
       "\n",
       "    .dataframe tbody tr th {\n",
       "        vertical-align: top;\n",
       "    }\n",
       "\n",
       "    .dataframe thead th {\n",
       "        text-align: right;\n",
       "    }\n",
       "</style>\n",
       "<table border=\"1\" class=\"dataframe\">\n",
       "  <thead>\n",
       "    <tr style=\"text-align: right;\">\n",
       "      <th></th>\n",
       "      <th>No</th>\n",
       "      <th>Tanggal</th>\n",
       "      <th>Home</th>\n",
       "      <th>Away</th>\n",
       "      <th>FTHG</th>\n",
       "      <th>FTAG</th>\n",
       "    </tr>\n",
       "  </thead>\n",
       "  <tbody>\n",
       "    <tr>\n",
       "      <th>0</th>\n",
       "      <td>1</td>\n",
       "      <td>2014-09-14</td>\n",
       "      <td>Indonesia</td>\n",
       "      <td>Malaysia</td>\n",
       "      <td>2</td>\n",
       "      <td>0</td>\n",
       "    </tr>\n",
       "    <tr>\n",
       "      <th>1</th>\n",
       "      <td>2</td>\n",
       "      <td>2014-11-22</td>\n",
       "      <td>Vietnam</td>\n",
       "      <td>Indonesia</td>\n",
       "      <td>2</td>\n",
       "      <td>2</td>\n",
       "    </tr>\n",
       "    <tr>\n",
       "      <th>2</th>\n",
       "      <td>3</td>\n",
       "      <td>2016-06-09</td>\n",
       "      <td>Indonesia</td>\n",
       "      <td>Malaysia</td>\n",
       "      <td>3</td>\n",
       "      <td>0</td>\n",
       "    </tr>\n",
       "    <tr>\n",
       "      <th>3</th>\n",
       "      <td>4</td>\n",
       "      <td>2016-09-10</td>\n",
       "      <td>Indonesia</td>\n",
       "      <td>Vietnam</td>\n",
       "      <td>2</td>\n",
       "      <td>2</td>\n",
       "    </tr>\n",
       "    <tr>\n",
       "      <th>4</th>\n",
       "      <td>5</td>\n",
       "      <td>2016-11-08</td>\n",
       "      <td>Vietnam</td>\n",
       "      <td>Indonesia</td>\n",
       "      <td>3</td>\n",
       "      <td>2</td>\n",
       "    </tr>\n",
       "    <tr>\n",
       "      <th>5</th>\n",
       "      <td>6</td>\n",
       "      <td>2016-11-19</td>\n",
       "      <td>Thailand</td>\n",
       "      <td>Indonesia</td>\n",
       "      <td>4</td>\n",
       "      <td>2</td>\n",
       "    </tr>\n",
       "    <tr>\n",
       "      <th>6</th>\n",
       "      <td>7</td>\n",
       "      <td>2016-12-03</td>\n",
       "      <td>Indonesia</td>\n",
       "      <td>Vietnam</td>\n",
       "      <td>2</td>\n",
       "      <td>1</td>\n",
       "    </tr>\n",
       "    <tr>\n",
       "      <th>7</th>\n",
       "      <td>8</td>\n",
       "      <td>2016-12-07</td>\n",
       "      <td>Vietnam</td>\n",
       "      <td>Indonesia</td>\n",
       "      <td>2</td>\n",
       "      <td>2</td>\n",
       "    </tr>\n",
       "    <tr>\n",
       "      <th>8</th>\n",
       "      <td>9</td>\n",
       "      <td>2016-12-14</td>\n",
       "      <td>Indonesia</td>\n",
       "      <td>Thailand</td>\n",
       "      <td>2</td>\n",
       "      <td>1</td>\n",
       "    </tr>\n",
       "    <tr>\n",
       "      <th>9</th>\n",
       "      <td>10</td>\n",
       "      <td>2016-12-17</td>\n",
       "      <td>Thailand</td>\n",
       "      <td>Indonesia</td>\n",
       "      <td>2</td>\n",
       "      <td>0</td>\n",
       "    </tr>\n",
       "    <tr>\n",
       "      <th>10</th>\n",
       "      <td>11</td>\n",
       "      <td>2018-11-17</td>\n",
       "      <td>Thailand</td>\n",
       "      <td>Indonesia</td>\n",
       "      <td>4</td>\n",
       "      <td>2</td>\n",
       "    </tr>\n",
       "    <tr>\n",
       "      <th>11</th>\n",
       "      <td>12</td>\n",
       "      <td>2012-09-15</td>\n",
       "      <td>Indonesia</td>\n",
       "      <td>Vietnam</td>\n",
       "      <td>0</td>\n",
       "      <td>0</td>\n",
       "    </tr>\n",
       "    <tr>\n",
       "      <th>12</th>\n",
       "      <td>13</td>\n",
       "      <td>2012-10-16</td>\n",
       "      <td>Vietnam</td>\n",
       "      <td>Indonesia</td>\n",
       "      <td>0</td>\n",
       "      <td>0</td>\n",
       "    </tr>\n",
       "    <tr>\n",
       "      <th>13</th>\n",
       "      <td>14</td>\n",
       "      <td>2012-12-01</td>\n",
       "      <td>Malaysia</td>\n",
       "      <td>Indonesia</td>\n",
       "      <td>2</td>\n",
       "      <td>0</td>\n",
       "    </tr>\n",
       "    <tr>\n",
       "      <th>14</th>\n",
       "      <td>15</td>\n",
       "      <td>2010-12-01</td>\n",
       "      <td>Indonesia</td>\n",
       "      <td>Malaysia</td>\n",
       "      <td>5</td>\n",
       "      <td>1</td>\n",
       "    </tr>\n",
       "    <tr>\n",
       "      <th>15</th>\n",
       "      <td>16</td>\n",
       "      <td>2010-12-07</td>\n",
       "      <td>Indonesia</td>\n",
       "      <td>Thailand</td>\n",
       "      <td>2</td>\n",
       "      <td>1</td>\n",
       "    </tr>\n",
       "    <tr>\n",
       "      <th>16</th>\n",
       "      <td>17</td>\n",
       "      <td>2010-12-26</td>\n",
       "      <td>Malaysia</td>\n",
       "      <td>Indonesia</td>\n",
       "      <td>3</td>\n",
       "      <td>0</td>\n",
       "    </tr>\n",
       "    <tr>\n",
       "      <th>17</th>\n",
       "      <td>18</td>\n",
       "      <td>2010-12-29</td>\n",
       "      <td>Indonesia</td>\n",
       "      <td>Malaysia</td>\n",
       "      <td>2</td>\n",
       "      <td>1</td>\n",
       "    </tr>\n",
       "    <tr>\n",
       "      <th>18</th>\n",
       "      <td>19</td>\n",
       "      <td>2008-12-16</td>\n",
       "      <td>Indonesia</td>\n",
       "      <td>Thailand</td>\n",
       "      <td>0</td>\n",
       "      <td>1</td>\n",
       "    </tr>\n",
       "    <tr>\n",
       "      <th>19</th>\n",
       "      <td>20</td>\n",
       "      <td>2008-12-20</td>\n",
       "      <td>Thailand</td>\n",
       "      <td>Indonesia</td>\n",
       "      <td>2</td>\n",
       "      <td>1</td>\n",
       "    </tr>\n",
       "    <tr>\n",
       "      <th>20</th>\n",
       "      <td>21</td>\n",
       "      <td>2008-06-06</td>\n",
       "      <td>Indonesia</td>\n",
       "      <td>Malaysia</td>\n",
       "      <td>1</td>\n",
       "      <td>1</td>\n",
       "    </tr>\n",
       "    <tr>\n",
       "      <th>21</th>\n",
       "      <td>22</td>\n",
       "      <td>2008-06-11</td>\n",
       "      <td>Indonesia</td>\n",
       "      <td>Vietnam</td>\n",
       "      <td>1</td>\n",
       "      <td>0</td>\n",
       "    </tr>\n",
       "    <tr>\n",
       "      <th>22</th>\n",
       "      <td>23</td>\n",
       "      <td>1981-09-02</td>\n",
       "      <td>Indonesia</td>\n",
       "      <td>UAE</td>\n",
       "      <td>5</td>\n",
       "      <td>2</td>\n",
       "    </tr>\n",
       "    <tr>\n",
       "      <th>23</th>\n",
       "      <td>24</td>\n",
       "      <td>1982-08-14</td>\n",
       "      <td>UAE</td>\n",
       "      <td>Indonesia</td>\n",
       "      <td>2</td>\n",
       "      <td>1</td>\n",
       "    </tr>\n",
       "    <tr>\n",
       "      <th>24</th>\n",
       "      <td>25</td>\n",
       "      <td>1986-10-01</td>\n",
       "      <td>Indonesia</td>\n",
       "      <td>UAE</td>\n",
       "      <td>2</td>\n",
       "      <td>2</td>\n",
       "    </tr>\n",
       "    <tr>\n",
       "      <th>25</th>\n",
       "      <td>26</td>\n",
       "      <td>1996-12-10</td>\n",
       "      <td>UAE</td>\n",
       "      <td>Indonesia</td>\n",
       "      <td>2</td>\n",
       "      <td>0</td>\n",
       "    </tr>\n",
       "    <tr>\n",
       "      <th>26</th>\n",
       "      <td>27</td>\n",
       "      <td>1985-02-28</td>\n",
       "      <td>UAE</td>\n",
       "      <td>Malaysia</td>\n",
       "      <td>2</td>\n",
       "      <td>0</td>\n",
       "    </tr>\n",
       "    <tr>\n",
       "      <th>27</th>\n",
       "      <td>28</td>\n",
       "      <td>1985-03-02</td>\n",
       "      <td>UAE</td>\n",
       "      <td>Malaysia</td>\n",
       "      <td>1</td>\n",
       "      <td>1</td>\n",
       "    </tr>\n",
       "    <tr>\n",
       "      <th>28</th>\n",
       "      <td>29</td>\n",
       "      <td>2007-06-21</td>\n",
       "      <td>Malaysia</td>\n",
       "      <td>UAE</td>\n",
       "      <td>1</td>\n",
       "      <td>3</td>\n",
       "    </tr>\n",
       "    <tr>\n",
       "      <th>29</th>\n",
       "      <td>30</td>\n",
       "      <td>2009-01-21</td>\n",
       "      <td>Malaysia</td>\n",
       "      <td>UAE</td>\n",
       "      <td>0</td>\n",
       "      <td>5</td>\n",
       "    </tr>\n",
       "    <tr>\n",
       "      <th>...</th>\n",
       "      <td>...</td>\n",
       "      <td>...</td>\n",
       "      <td>...</td>\n",
       "      <td>...</td>\n",
       "      <td>...</td>\n",
       "      <td>...</td>\n",
       "    </tr>\n",
       "    <tr>\n",
       "      <th>42</th>\n",
       "      <td>43</td>\n",
       "      <td>2013-11-19</td>\n",
       "      <td>UAE</td>\n",
       "      <td>Vietnam</td>\n",
       "      <td>5</td>\n",
       "      <td>0</td>\n",
       "    </tr>\n",
       "    <tr>\n",
       "      <th>43</th>\n",
       "      <td>44</td>\n",
       "      <td>2013-02-06</td>\n",
       "      <td>Vietnam</td>\n",
       "      <td>UAE</td>\n",
       "      <td>1</td>\n",
       "      <td>2</td>\n",
       "    </tr>\n",
       "    <tr>\n",
       "      <th>44</th>\n",
       "      <td>45</td>\n",
       "      <td>2007-10-28</td>\n",
       "      <td>UAE</td>\n",
       "      <td>Vietnam</td>\n",
       "      <td>5</td>\n",
       "      <td>0</td>\n",
       "    </tr>\n",
       "    <tr>\n",
       "      <th>45</th>\n",
       "      <td>46</td>\n",
       "      <td>2007-10-08</td>\n",
       "      <td>Vietnam</td>\n",
       "      <td>UAE</td>\n",
       "      <td>0</td>\n",
       "      <td>1</td>\n",
       "    </tr>\n",
       "    <tr>\n",
       "      <th>46</th>\n",
       "      <td>47</td>\n",
       "      <td>2007-07-08</td>\n",
       "      <td>Vietnam</td>\n",
       "      <td>UAE</td>\n",
       "      <td>2</td>\n",
       "      <td>0</td>\n",
       "    </tr>\n",
       "    <tr>\n",
       "      <th>47</th>\n",
       "      <td>48</td>\n",
       "      <td>2002-09-27</td>\n",
       "      <td>UAE</td>\n",
       "      <td>Vietnam</td>\n",
       "      <td>0</td>\n",
       "      <td>0</td>\n",
       "    </tr>\n",
       "    <tr>\n",
       "      <th>48</th>\n",
       "      <td>49</td>\n",
       "      <td>2018-12-05</td>\n",
       "      <td>Thailand</td>\n",
       "      <td>Malaysia</td>\n",
       "      <td>2</td>\n",
       "      <td>2</td>\n",
       "    </tr>\n",
       "    <tr>\n",
       "      <th>49</th>\n",
       "      <td>50</td>\n",
       "      <td>2018-12-01</td>\n",
       "      <td>Malaysia</td>\n",
       "      <td>Thailand</td>\n",
       "      <td>0</td>\n",
       "      <td>0</td>\n",
       "    </tr>\n",
       "    <tr>\n",
       "      <th>50</th>\n",
       "      <td>51</td>\n",
       "      <td>2014-12-20</td>\n",
       "      <td>Malaysia</td>\n",
       "      <td>Thailand</td>\n",
       "      <td>3</td>\n",
       "      <td>2</td>\n",
       "    </tr>\n",
       "    <tr>\n",
       "      <th>51</th>\n",
       "      <td>52</td>\n",
       "      <td>2014-12-17</td>\n",
       "      <td>Thailand</td>\n",
       "      <td>Malaysia</td>\n",
       "      <td>2</td>\n",
       "      <td>0</td>\n",
       "    </tr>\n",
       "    <tr>\n",
       "      <th>52</th>\n",
       "      <td>53</td>\n",
       "      <td>2014-11-26</td>\n",
       "      <td>Malaysia</td>\n",
       "      <td>Thailand</td>\n",
       "      <td>2</td>\n",
       "      <td>3</td>\n",
       "    </tr>\n",
       "    <tr>\n",
       "      <th>53</th>\n",
       "      <td>54</td>\n",
       "      <td>2012-12-13</td>\n",
       "      <td>Thailand</td>\n",
       "      <td>Malaysia</td>\n",
       "      <td>2</td>\n",
       "      <td>0</td>\n",
       "    </tr>\n",
       "    <tr>\n",
       "      <th>54</th>\n",
       "      <td>55</td>\n",
       "      <td>2012-12-09</td>\n",
       "      <td>Malaysia</td>\n",
       "      <td>Thailand</td>\n",
       "      <td>1</td>\n",
       "      <td>1</td>\n",
       "    </tr>\n",
       "    <tr>\n",
       "      <th>55</th>\n",
       "      <td>56</td>\n",
       "      <td>2012-11-07</td>\n",
       "      <td>Thailand</td>\n",
       "      <td>Malaysia</td>\n",
       "      <td>2</td>\n",
       "      <td>0</td>\n",
       "    </tr>\n",
       "    <tr>\n",
       "      <th>56</th>\n",
       "      <td>57</td>\n",
       "      <td>2018-12-15</td>\n",
       "      <td>Vietnam</td>\n",
       "      <td>Malaysia</td>\n",
       "      <td>1</td>\n",
       "      <td>0</td>\n",
       "    </tr>\n",
       "    <tr>\n",
       "      <th>57</th>\n",
       "      <td>58</td>\n",
       "      <td>2018-12-11</td>\n",
       "      <td>Malaysia</td>\n",
       "      <td>Vietnam</td>\n",
       "      <td>2</td>\n",
       "      <td>2</td>\n",
       "    </tr>\n",
       "    <tr>\n",
       "      <th>58</th>\n",
       "      <td>59</td>\n",
       "      <td>2018-11-16</td>\n",
       "      <td>Vietnam</td>\n",
       "      <td>Malaysia</td>\n",
       "      <td>2</td>\n",
       "      <td>0</td>\n",
       "    </tr>\n",
       "    <tr>\n",
       "      <th>59</th>\n",
       "      <td>60</td>\n",
       "      <td>2016-11-23</td>\n",
       "      <td>Malaysia</td>\n",
       "      <td>Vietnam</td>\n",
       "      <td>0</td>\n",
       "      <td>1</td>\n",
       "    </tr>\n",
       "    <tr>\n",
       "      <th>60</th>\n",
       "      <td>61</td>\n",
       "      <td>2014-12-11</td>\n",
       "      <td>Vietnam</td>\n",
       "      <td>Malaysia</td>\n",
       "      <td>2</td>\n",
       "      <td>4</td>\n",
       "    </tr>\n",
       "    <tr>\n",
       "      <th>61</th>\n",
       "      <td>62</td>\n",
       "      <td>2014-12-07</td>\n",
       "      <td>Malaysia</td>\n",
       "      <td>Vietnam</td>\n",
       "      <td>1</td>\n",
       "      <td>2</td>\n",
       "    </tr>\n",
       "    <tr>\n",
       "      <th>62</th>\n",
       "      <td>63</td>\n",
       "      <td>2014-11-16</td>\n",
       "      <td>Vietnam</td>\n",
       "      <td>Malaysia</td>\n",
       "      <td>3</td>\n",
       "      <td>1</td>\n",
       "    </tr>\n",
       "    <tr>\n",
       "      <th>63</th>\n",
       "      <td>64</td>\n",
       "      <td>2012-11-03</td>\n",
       "      <td>Vietnam</td>\n",
       "      <td>Malaysia</td>\n",
       "      <td>1</td>\n",
       "      <td>0</td>\n",
       "    </tr>\n",
       "    <tr>\n",
       "      <th>64</th>\n",
       "      <td>65</td>\n",
       "      <td>2019-06-05</td>\n",
       "      <td>Thailand</td>\n",
       "      <td>Vietnam</td>\n",
       "      <td>0</td>\n",
       "      <td>1</td>\n",
       "    </tr>\n",
       "    <tr>\n",
       "      <th>65</th>\n",
       "      <td>66</td>\n",
       "      <td>2015-10-13</td>\n",
       "      <td>Vietnam</td>\n",
       "      <td>Thailand</td>\n",
       "      <td>0</td>\n",
       "      <td>3</td>\n",
       "    </tr>\n",
       "    <tr>\n",
       "      <th>66</th>\n",
       "      <td>67</td>\n",
       "      <td>2015-05-24</td>\n",
       "      <td>Thailand</td>\n",
       "      <td>Vietnam</td>\n",
       "      <td>1</td>\n",
       "      <td>0</td>\n",
       "    </tr>\n",
       "    <tr>\n",
       "      <th>67</th>\n",
       "      <td>68</td>\n",
       "      <td>2012-11-30</td>\n",
       "      <td>Thailand</td>\n",
       "      <td>Vietnam</td>\n",
       "      <td>3</td>\n",
       "      <td>1</td>\n",
       "    </tr>\n",
       "    <tr>\n",
       "      <th>68</th>\n",
       "      <td>69</td>\n",
       "      <td>2008-12-28</td>\n",
       "      <td>Vietnam</td>\n",
       "      <td>Thailand</td>\n",
       "      <td>1</td>\n",
       "      <td>1</td>\n",
       "    </tr>\n",
       "    <tr>\n",
       "      <th>69</th>\n",
       "      <td>70</td>\n",
       "      <td>2008-12-24</td>\n",
       "      <td>Thailand</td>\n",
       "      <td>Vietnam</td>\n",
       "      <td>1</td>\n",
       "      <td>2</td>\n",
       "    </tr>\n",
       "    <tr>\n",
       "      <th>70</th>\n",
       "      <td>71</td>\n",
       "      <td>2008-12-06</td>\n",
       "      <td>Thailand</td>\n",
       "      <td>Vietnam</td>\n",
       "      <td>2</td>\n",
       "      <td>0</td>\n",
       "    </tr>\n",
       "    <tr>\n",
       "      <th>71</th>\n",
       "      <td>72</td>\n",
       "      <td>2008-11-16</td>\n",
       "      <td>Vietnam</td>\n",
       "      <td>Thailand</td>\n",
       "      <td>2</td>\n",
       "      <td>2</td>\n",
       "    </tr>\n",
       "  </tbody>\n",
       "</table>\n",
       "<p>72 rows × 6 columns</p>\n",
       "</div>"
      ],
      "text/plain": [
       "    No    Tanggal       Home       Away  FTHG  FTAG\n",
       "0    1 2014-09-14  Indonesia   Malaysia     2     0\n",
       "1    2 2014-11-22    Vietnam  Indonesia     2     2\n",
       "2    3 2016-06-09  Indonesia   Malaysia     3     0\n",
       "3    4 2016-09-10  Indonesia    Vietnam     2     2\n",
       "4    5 2016-11-08    Vietnam  Indonesia     3     2\n",
       "5    6 2016-11-19   Thailand  Indonesia     4     2\n",
       "6    7 2016-12-03  Indonesia    Vietnam     2     1\n",
       "7    8 2016-12-07    Vietnam  Indonesia     2     2\n",
       "8    9 2016-12-14  Indonesia   Thailand     2     1\n",
       "9   10 2016-12-17   Thailand  Indonesia     2     0\n",
       "10  11 2018-11-17   Thailand  Indonesia     4     2\n",
       "11  12 2012-09-15  Indonesia    Vietnam     0     0\n",
       "12  13 2012-10-16    Vietnam  Indonesia     0     0\n",
       "13  14 2012-12-01   Malaysia  Indonesia     2     0\n",
       "14  15 2010-12-01  Indonesia   Malaysia     5     1\n",
       "15  16 2010-12-07  Indonesia   Thailand     2     1\n",
       "16  17 2010-12-26   Malaysia  Indonesia     3     0\n",
       "17  18 2010-12-29  Indonesia   Malaysia     2     1\n",
       "18  19 2008-12-16  Indonesia   Thailand     0     1\n",
       "19  20 2008-12-20   Thailand  Indonesia     2     1\n",
       "20  21 2008-06-06  Indonesia   Malaysia     1     1\n",
       "21  22 2008-06-11  Indonesia    Vietnam     1     0\n",
       "22  23 1981-09-02  Indonesia        UAE     5     2\n",
       "23  24 1982-08-14        UAE  Indonesia     2     1\n",
       "24  25 1986-10-01  Indonesia        UAE     2     2\n",
       "25  26 1996-12-10        UAE  Indonesia     2     0\n",
       "26  27 1985-02-28        UAE   Malaysia     2     0\n",
       "27  28 1985-03-02        UAE   Malaysia     1     1\n",
       "28  29 2007-06-21   Malaysia        UAE     1     3\n",
       "29  30 2009-01-21   Malaysia        UAE     0     5\n",
       "..  ..        ...        ...        ...   ...   ...\n",
       "42  43 2013-11-19        UAE    Vietnam     5     0\n",
       "43  44 2013-02-06    Vietnam        UAE     1     2\n",
       "44  45 2007-10-28        UAE    Vietnam     5     0\n",
       "45  46 2007-10-08    Vietnam        UAE     0     1\n",
       "46  47 2007-07-08    Vietnam        UAE     2     0\n",
       "47  48 2002-09-27        UAE    Vietnam     0     0\n",
       "48  49 2018-12-05   Thailand   Malaysia     2     2\n",
       "49  50 2018-12-01   Malaysia   Thailand     0     0\n",
       "50  51 2014-12-20   Malaysia   Thailand     3     2\n",
       "51  52 2014-12-17   Thailand   Malaysia     2     0\n",
       "52  53 2014-11-26   Malaysia   Thailand     2     3\n",
       "53  54 2012-12-13   Thailand   Malaysia     2     0\n",
       "54  55 2012-12-09   Malaysia   Thailand     1     1\n",
       "55  56 2012-11-07   Thailand   Malaysia     2     0\n",
       "56  57 2018-12-15    Vietnam   Malaysia     1     0\n",
       "57  58 2018-12-11   Malaysia    Vietnam     2     2\n",
       "58  59 2018-11-16    Vietnam   Malaysia     2     0\n",
       "59  60 2016-11-23   Malaysia    Vietnam     0     1\n",
       "60  61 2014-12-11    Vietnam   Malaysia     2     4\n",
       "61  62 2014-12-07   Malaysia    Vietnam     1     2\n",
       "62  63 2014-11-16    Vietnam   Malaysia     3     1\n",
       "63  64 2012-11-03    Vietnam   Malaysia     1     0\n",
       "64  65 2019-06-05   Thailand    Vietnam     0     1\n",
       "65  66 2015-10-13    Vietnam   Thailand     0     3\n",
       "66  67 2015-05-24   Thailand    Vietnam     1     0\n",
       "67  68 2012-11-30   Thailand    Vietnam     3     1\n",
       "68  69 2008-12-28    Vietnam   Thailand     1     1\n",
       "69  70 2008-12-24   Thailand    Vietnam     1     2\n",
       "70  71 2008-12-06   Thailand    Vietnam     2     0\n",
       "71  72 2008-11-16    Vietnam   Thailand     2     2\n",
       "\n",
       "[72 rows x 6 columns]"
      ]
     },
     "execution_count": 63,
     "metadata": {},
     "output_type": "execute_result"
    }
   ],
   "source": [
    "grupG"
   ]
  },
  {
   "cell_type": "code",
   "execution_count": 18,
   "metadata": {},
   "outputs": [
    {
     "data": {
      "text/plain": [
       "1    1.55163\n",
       "dtype: float64"
      ]
     },
     "execution_count": 18,
     "metadata": {},
     "output_type": "execute_result"
    }
   ],
   "source": [
    "poisson_model.predict(pd.DataFrame(data={'team':'Indonesia',\n",
    "                                         'opponent':'Thailand','home':1},\n",
    "                                  index=[1]))"
   ]
  },
  {
   "cell_type": "code",
   "execution_count": 19,
   "metadata": {},
   "outputs": [
    {
     "data": {
      "text/plain": [
       "1    1.32014\n",
       "dtype: float64"
      ]
     },
     "execution_count": 19,
     "metadata": {},
     "output_type": "execute_result"
    }
   ],
   "source": [
    "poisson_model.predict(pd.DataFrame(data={'team':'Thailand',\n",
    "                                        'opponent':'Indonesia','home':0},\n",
    "                                  index=[1]))"
   ]
  },
  {
   "cell_type": "code",
   "execution_count": 21,
   "metadata": {},
   "outputs": [
    {
     "data": {
      "text/plain": [
       "array([[0.05659865, 0.07471815, 0.04931922, 0.02170276],\n",
       "       [0.08782016, 0.11593492, 0.07652517, 0.03367465],\n",
       "       [0.0681322 , 0.08994405, 0.05936938, 0.0261253 ],\n",
       "       [0.03523865, 0.04651996, 0.03070644, 0.01351227]])"
      ]
     },
     "execution_count": 21,
     "metadata": {},
     "output_type": "execute_result"
    }
   ],
   "source": [
    "def simulate_match(foot_model, homeTeam, awayTeam, max_goals=10):\n",
    "    home_goals_avg = foot_model.predict(pd.DataFrame(data={'team':homeTeam,\n",
    "                                                          'opponent':awayTeam,\n",
    "                                                          'home':1},\n",
    "                                                    index=[1])).values[0]\n",
    "    away_goals_avg = foot_model.predict(pd.DataFrame(data={'team':awayTeam,\n",
    "                                                          'opponent':homeTeam,\n",
    "                                                          'home':0},\n",
    "                                                    index=[1])).values[0]\n",
    "    team_pred = [[poisson.pmf(i,team_avg) for i in range(0, max_goals+1)]\n",
    "                for team_avg in [home_goals_avg, away_goals_avg]]\n",
    "    return(np.outer(np.array(team_pred[0]), np.array(team_pred[1])))\n",
    "simulate_match(poisson_model, 'Indonesia','Thailand', max_goals=3)"
   ]
  },
  {
   "cell_type": "code",
   "execution_count": 22,
   "metadata": {},
   "outputs": [
    {
     "data": {
      "text/plain": [
       "0.42814959691861554"
      ]
     },
     "execution_count": 22,
     "metadata": {},
     "output_type": "execute_result"
    }
   ],
   "source": [
    "Indo_Thai = simulate_match(poisson_model,\"Indonesia\",\"Thailand\", max_goals=10)\n",
    "np.sum(np.tril(Indo_Thai, -1))"
   ]
  },
  {
   "cell_type": "code",
   "execution_count": 68,
   "metadata": {},
   "outputs": [
    {
     "data": {
      "text/plain": [
       "0.2472952491739593"
      ]
     },
     "execution_count": 68,
     "metadata": {},
     "output_type": "execute_result"
    }
   ],
   "source": [
    "np.sum(np.diag(Indo_Thai))"
   ]
  },
  {
   "cell_type": "code",
   "execution_count": 69,
   "metadata": {},
   "outputs": [
    {
     "data": {
      "text/plain": [
       "0.32455423054629245"
      ]
     },
     "execution_count": 69,
     "metadata": {},
     "output_type": "execute_result"
    }
   ],
   "source": [
    "np.sum(np.triu(Indo_Thai, 1))"
   ]
  },
  {
   "cell_type": "code",
   "execution_count": 70,
   "metadata": {},
   "outputs": [
    {
     "data": {
      "text/plain": [
       "array([[0.03954004, 0.03426181, 0.01484409, 0.00428751, 0.00092879],\n",
       "       [0.09346998, 0.0809926 , 0.03509042, 0.01013539, 0.0021956 ],\n",
       "       [0.11047834, 0.09573051, 0.04147568, 0.01197969, 0.00259513],\n",
       "       [0.08705443, 0.07543347, 0.0326819 , 0.00943972, 0.0020449 ],\n",
       "       [0.05144769, 0.0445799 , 0.01931445, 0.00557872, 0.0012085 ]])"
      ]
     },
     "execution_count": 70,
     "metadata": {},
     "output_type": "execute_result"
    }
   ],
   "source": [
    "simulate_match(poisson_model,'Thailand','Indonesia', max_goals=4)"
   ]
  },
  {
   "cell_type": "code",
   "execution_count": 72,
   "metadata": {},
   "outputs": [
    {
     "data": {
      "text/plain": [
       "0.42814959691861554"
      ]
     },
     "execution_count": 72,
     "metadata": {},
     "output_type": "execute_result"
    }
   ],
   "source": [
    "simulate_match(poisson_model,'Thailand','Indonesia', max_goals=10)\n",
    "np.sum(np.tril(Indo_Thai, -1))"
   ]
  },
  {
   "cell_type": "code",
   "execution_count": 74,
   "metadata": {},
   "outputs": [
    {
     "data": {
      "text/plain": [
       "0.6124041143349271"
      ]
     },
     "execution_count": 74,
     "metadata": {},
     "output_type": "execute_result"
    }
   ],
   "source": [
    "Indo_Viet = simulate_match(poisson_model,'Indonesia','Vietnam', max_goals=10)\n",
    "np.sum(np.tril(Indo_Viet,-1))\n",
    "#Indonesia Menang"
   ]
  },
  {
   "cell_type": "code",
   "execution_count": 76,
   "metadata": {},
   "outputs": [
    {
     "data": {
      "text/plain": [
       "0.21542069298509334"
      ]
     },
     "execution_count": 76,
     "metadata": {},
     "output_type": "execute_result"
    }
   ],
   "source": [
    "np.sum(np.diag(Indo_Viet))\n",
    "#Hasil Seri"
   ]
  },
  {
   "cell_type": "code",
   "execution_count": 77,
   "metadata": {},
   "outputs": [
    {
     "data": {
      "text/plain": [
       "0.17216900563867057"
      ]
     },
     "execution_count": 77,
     "metadata": {},
     "output_type": "execute_result"
    }
   ],
   "source": [
    "np.sum(np.triu(Indo_Viet,1))\n",
    "#Vietnam Menang"
   ]
  },
  {
   "cell_type": "code",
   "execution_count": 78,
   "metadata": {},
   "outputs": [
    {
     "data": {
      "text/plain": [
       "0.7374863402094876"
      ]
     },
     "execution_count": 78,
     "metadata": {},
     "output_type": "execute_result"
    }
   ],
   "source": [
    "Indo_Malay = simulate_match(poisson_model,'Indonesia','Malaysia', max_goals=10)\n",
    "np.sum(np.tril(Indo_Malay,-1))\n",
    "#Indo Menang"
   ]
  },
  {
   "cell_type": "code",
   "execution_count": 84,
   "metadata": {},
   "outputs": [
    {
     "data": {
      "text/plain": [
       "0.15506169498276398"
      ]
     },
     "execution_count": 84,
     "metadata": {},
     "output_type": "execute_result"
    }
   ],
   "source": [
    "np.sum(np.diag(Indo_Malay))\n",
    "#Hasil Seri"
   ]
  },
  {
   "cell_type": "code",
   "execution_count": 85,
   "metadata": {},
   "outputs": [
    {
     "data": {
      "text/plain": [
       "0.10736677472532669"
      ]
     },
     "execution_count": 85,
     "metadata": {},
     "output_type": "execute_result"
    }
   ],
   "source": [
    "np.sum(np.triu(Indo_Malay,1))\n",
    "#Malaysia Menang"
   ]
  },
  {
   "cell_type": "code",
   "execution_count": 81,
   "metadata": {},
   "outputs": [
    {
     "data": {
      "text/plain": [
       "0.35513388065721374"
      ]
     },
     "execution_count": 81,
     "metadata": {},
     "output_type": "execute_result"
    }
   ],
   "source": [
    "Indo_UAE = simulate_match(poisson_model,'Indonesia','UAE',max_goals=10)\n",
    "np.sum(np.tril(Indo_UAE,-1))\n",
    "#Indo Menang"
   ]
  },
  {
   "cell_type": "code",
   "execution_count": 86,
   "metadata": {},
   "outputs": [
    {
     "data": {
      "text/plain": [
       "0.22929285286574286"
      ]
     },
     "execution_count": 86,
     "metadata": {},
     "output_type": "execute_result"
    }
   ],
   "source": [
    "np.sum(np.diag(Indo_UAE))\n",
    "#Hasil Seri"
   ]
  },
  {
   "cell_type": "code",
   "execution_count": 87,
   "metadata": {},
   "outputs": [
    {
     "data": {
      "text/plain": [
       "0.41557023210925925"
      ]
     },
     "execution_count": 87,
     "metadata": {},
     "output_type": "execute_result"
    }
   ],
   "source": [
    "#UAE Menang\n",
    "np.sum(np.triu(Indo_UAE,1))"
   ]
  },
  {
   "cell_type": "code",
   "execution_count": 88,
   "metadata": {},
   "outputs": [
    {
     "data": {
      "text/plain": [
       "0.80773536818716"
      ]
     },
     "execution_count": 88,
     "metadata": {},
     "output_type": "execute_result"
    }
   ],
   "source": [
    "UAE_Indo = simulate_match(poisson_model,'UAE','Indonesia', max_goals=10)\n",
    "np.sum(np.tril(UAE_Indo,-1))\n",
    "#UAE Menang"
   ]
  },
  {
   "cell_type": "code",
   "execution_count": 89,
   "metadata": {},
   "outputs": [
    {
     "data": {
      "text/plain": [
       "0.11777695110368139"
      ]
     },
     "execution_count": 89,
     "metadata": {},
     "output_type": "execute_result"
    }
   ],
   "source": [
    "np.sum(np.diag(UAE_Indo))\n",
    "#Seri"
   ]
  },
  {
   "cell_type": "code",
   "execution_count": 90,
   "metadata": {},
   "outputs": [
    {
     "data": {
      "text/plain": [
       "0.07411280227310416"
      ]
     },
     "execution_count": 90,
     "metadata": {},
     "output_type": "execute_result"
    }
   ],
   "source": [
    "#Indonesia Menang\n",
    "np.sum(np.triu(UAE_Indo,1))"
   ]
  },
  {
   "cell_type": "code",
   "execution_count": 91,
   "metadata": {},
   "outputs": [
    {
     "data": {
      "text/plain": [
       "0.4154022201019698"
      ]
     },
     "execution_count": 91,
     "metadata": {},
     "output_type": "execute_result"
    }
   ],
   "source": [
    "Malaysia_Indo = simulate_match(poisson_model,'Malaysia', 'Indonesia', max_goals=10)\n",
    "np.sum(np.tril(Malaysia_Indo,-1))\n",
    "#Malaysia Menang"
   ]
  },
  {
   "cell_type": "code",
   "execution_count": 92,
   "metadata": {},
   "outputs": [
    {
     "data": {
      "text/plain": [
       "0.2394741367141924"
      ]
     },
     "execution_count": 92,
     "metadata": {},
     "output_type": "execute_result"
    }
   ],
   "source": [
    "np.sum(np.diag(Malaysia_Indo))\n",
    "#Seri"
   ]
  },
  {
   "cell_type": "code",
   "execution_count": 93,
   "metadata": {},
   "outputs": [
    {
     "data": {
      "text/plain": [
       "0.3451221581603289"
      ]
     },
     "execution_count": 93,
     "metadata": {},
     "output_type": "execute_result"
    }
   ],
   "source": [
    "np.sum(np.triu(Malaysia_Indo,1))\n",
    "#Indonesia Menang"
   ]
  },
  {
   "cell_type": "code",
   "execution_count": 94,
   "metadata": {},
   "outputs": [
    {
     "data": {
      "text/plain": [
       "0.504055646375188"
      ]
     },
     "execution_count": 94,
     "metadata": {},
     "output_type": "execute_result"
    }
   ],
   "source": [
    "Viet_Indo = simulate_match(poisson_model,'Vietnam','Indonesia',max_goals=10)\n",
    "np.sum(np.tril(Viet_Indo,-1))\n",
    "#Vietnam Menang"
   ]
  },
  {
   "cell_type": "code",
   "execution_count": 95,
   "metadata": {},
   "outputs": [
    {
     "data": {
      "text/plain": [
       "0.2454756931226494"
      ]
     },
     "execution_count": 95,
     "metadata": {},
     "output_type": "execute_result"
    }
   ],
   "source": [
    "np.sum(np.diag(Viet_Indo))\n",
    "#Seri"
   ]
  },
  {
   "cell_type": "code",
   "execution_count": 96,
   "metadata": {},
   "outputs": [
    {
     "data": {
      "text/plain": [
       "0.2504673328295269"
      ]
     },
     "execution_count": 96,
     "metadata": {},
     "output_type": "execute_result"
    }
   ],
   "source": [
    "np.sum(np.triu(Viet_Indo,1))\n",
    "#Indonesia Menang"
   ]
  },
  {
   "cell_type": "code",
   "execution_count": 97,
   "metadata": {},
   "outputs": [
    {
     "data": {
      "text/plain": [
       "0.7070097560591064"
      ]
     },
     "execution_count": 97,
     "metadata": {},
     "output_type": "execute_result"
    }
   ],
   "source": [
    "Thai_Indo = simulate_match(poisson_model,'Thailand','Indonesia',max_goals=10)\n",
    "np.sum(np.tril(Thai_Indo,-1))\n",
    "#Thailand Menang"
   ]
  },
  {
   "cell_type": "code",
   "execution_count": 99,
   "metadata": {},
   "outputs": [
    {
     "data": {
      "text/plain": [
       "0.17276144992290257"
      ]
     },
     "execution_count": 99,
     "metadata": {},
     "output_type": "execute_result"
    }
   ],
   "source": [
    "np.sum(np.diag(Thai_Indo))\n",
    "#Seri"
   ]
  },
  {
   "cell_type": "code",
   "execution_count": 117,
   "metadata": {},
   "outputs": [
    {
     "data": {
      "text/plain": [
       "0.12019115582545661"
      ]
     },
     "execution_count": 117,
     "metadata": {},
     "output_type": "execute_result"
    }
   ],
   "source": [
    "np.sum(np.triu(Thai_Indo,1))\n",
    "#Indo Menang"
   ]
  },
  {
   "cell_type": "code",
   "execution_count": 114,
   "metadata": {},
   "outputs": [
    {
     "data": {
      "text/plain": [
       "72"
      ]
     },
     "execution_count": 114,
     "metadata": {},
     "output_type": "execute_result"
    }
   ],
   "source": [
    "grupG['Home'].count()"
   ]
  },
  {
   "cell_type": "code",
   "execution_count": 22,
   "metadata": {},
   "outputs": [
    {
     "data": {
      "text/plain": [
       "0.6429059805301248"
      ]
     },
     "execution_count": 22,
     "metadata": {},
     "output_type": "execute_result"
    }
   ],
   "source": [
    "UAE_Thai = simulate_match(poisson_model,'UAE','Thailand',max_goals=10)\n",
    "np.sum(np.tril(UAE_Thai,-1))\n",
    "#UAE Menang"
   ]
  },
  {
   "cell_type": "code",
   "execution_count": 23,
   "metadata": {},
   "outputs": [
    {
     "data": {
      "text/plain": [
       "0.2025438682420583"
      ]
     },
     "execution_count": 23,
     "metadata": {},
     "output_type": "execute_result"
    }
   ],
   "source": [
    "np.sum(np.diag(UAE_Thai))\n",
    "#seri"
   ]
  },
  {
   "cell_type": "code",
   "execution_count": 24,
   "metadata": {},
   "outputs": [
    {
     "data": {
      "text/plain": [
       "0.15453919928839852"
      ]
     },
     "execution_count": 24,
     "metadata": {},
     "output_type": "execute_result"
    }
   ],
   "source": [
    "np.sum(np.triu(UAE_Thai,1))\n",
    "#UAE Kalah"
   ]
  },
  {
   "cell_type": "code",
   "execution_count": 25,
   "metadata": {},
   "outputs": [
    {
     "data": {
      "text/plain": [
       "0.7937126462078712"
      ]
     },
     "execution_count": 25,
     "metadata": {},
     "output_type": "execute_result"
    }
   ],
   "source": [
    "UAE_Viet = simulate_match(poisson_model,'UAE','Vietnam',max_goals=10)\n",
    "np.sum(np.tril(UAE_Viet,-1))\n",
    "#UAE Menang"
   ]
  },
  {
   "cell_type": "code",
   "execution_count": 26,
   "metadata": {},
   "outputs": [
    {
     "data": {
      "text/plain": [
       "0.13802735840311806"
      ]
     },
     "execution_count": 26,
     "metadata": {},
     "output_type": "execute_result"
    }
   ],
   "source": [
    "np.sum(np.diag(UAE_Viet))\n",
    "#SERI"
   ]
  },
  {
   "cell_type": "code",
   "execution_count": 27,
   "metadata": {},
   "outputs": [
    {
     "data": {
      "text/plain": [
       "0.06818080160348661"
      ]
     },
     "execution_count": 27,
     "metadata": {},
     "output_type": "execute_result"
    }
   ],
   "source": [
    "np.sum(np.triu(UAE_Viet,1))\n",
    "#UAE Kalah"
   ]
  },
  {
   "cell_type": "code",
   "execution_count": 29,
   "metadata": {},
   "outputs": [
    {
     "data": {
      "text/plain": [
       "0.8872234516932302"
      ]
     },
     "execution_count": 29,
     "metadata": {},
     "output_type": "execute_result"
    }
   ],
   "source": [
    "UAE_Mal = simulate_match(poisson_model,'UAE','Malaysia',max_goals=10)\n",
    "np.sum(np.tril(UAE_Mal,-1))\n",
    "#UAE Menang"
   ]
  },
  {
   "cell_type": "code",
   "execution_count": 30,
   "metadata": {},
   "outputs": [
    {
     "data": {
      "text/plain": [
       "0.07803811579260268"
      ]
     },
     "execution_count": 30,
     "metadata": {},
     "output_type": "execute_result"
    }
   ],
   "source": [
    "np.sum(np.diag(UAE_Mal))\n",
    "#Seri"
   ]
  },
  {
   "cell_type": "code",
   "execution_count": 31,
   "metadata": {},
   "outputs": [
    {
     "data": {
      "text/plain": [
       "0.03383555071384005"
      ]
     },
     "execution_count": 31,
     "metadata": {},
     "output_type": "execute_result"
    }
   ],
   "source": [
    "np.sum(np.triu(UAE_Mal,1))\n",
    "#UAE kalah"
   ]
  }
 ],
 "metadata": {
  "kernelspec": {
   "display_name": "Python 3",
   "language": "python",
   "name": "python3"
  },
  "language_info": {
   "codemirror_mode": {
    "name": "ipython",
    "version": 3
   },
   "file_extension": ".py",
   "mimetype": "text/x-python",
   "name": "python",
   "nbconvert_exporter": "python",
   "pygments_lexer": "ipython3",
   "version": "3.7.3"
  }
 },
 "nbformat": 4,
 "nbformat_minor": 2
}
